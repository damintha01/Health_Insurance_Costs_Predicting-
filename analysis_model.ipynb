{
 "cells": [
  {
   "cell_type": "code",
   "execution_count": 2,
   "id": "41ac6da1",
   "metadata": {},
   "outputs": [],
   "source": [
    "import pandas as pd\n",
    "import matplotlib.pyplot as plt\n"
   ]
  },
  {
   "cell_type": "code",
   "execution_count": 3,
   "id": "65c5eab3",
   "metadata": {},
   "outputs": [
    {
     "data": {
      "text/html": [
       "<div>\n",
       "<style scoped>\n",
       "    .dataframe tbody tr th:only-of-type {\n",
       "        vertical-align: middle;\n",
       "    }\n",
       "\n",
       "    .dataframe tbody tr th {\n",
       "        vertical-align: top;\n",
       "    }\n",
       "\n",
       "    .dataframe thead th {\n",
       "        text-align: right;\n",
       "    }\n",
       "</style>\n",
       "<table border=\"1\" class=\"dataframe\">\n",
       "  <thead>\n",
       "    <tr style=\"text-align: right;\">\n",
       "      <th></th>\n",
       "      <th>Id</th>\n",
       "      <th>age</th>\n",
       "      <th>gender</th>\n",
       "      <th>bmi</th>\n",
       "      <th>bloodpressure</th>\n",
       "      <th>diabetic</th>\n",
       "      <th>children</th>\n",
       "      <th>smoker</th>\n",
       "      <th>region</th>\n",
       "      <th>claim</th>\n",
       "    </tr>\n",
       "  </thead>\n",
       "  <tbody>\n",
       "    <tr>\n",
       "      <th>0</th>\n",
       "      <td>1</td>\n",
       "      <td>39.0</td>\n",
       "      <td>male</td>\n",
       "      <td>23.2</td>\n",
       "      <td>91</td>\n",
       "      <td>Yes</td>\n",
       "      <td>0</td>\n",
       "      <td>No</td>\n",
       "      <td>southeast</td>\n",
       "      <td>1121.87</td>\n",
       "    </tr>\n",
       "    <tr>\n",
       "      <th>1</th>\n",
       "      <td>2</td>\n",
       "      <td>24.0</td>\n",
       "      <td>male</td>\n",
       "      <td>30.1</td>\n",
       "      <td>87</td>\n",
       "      <td>No</td>\n",
       "      <td>0</td>\n",
       "      <td>No</td>\n",
       "      <td>southeast</td>\n",
       "      <td>1131.51</td>\n",
       "    </tr>\n",
       "    <tr>\n",
       "      <th>2</th>\n",
       "      <td>3</td>\n",
       "      <td>NaN</td>\n",
       "      <td>male</td>\n",
       "      <td>33.3</td>\n",
       "      <td>82</td>\n",
       "      <td>Yes</td>\n",
       "      <td>0</td>\n",
       "      <td>No</td>\n",
       "      <td>southeast</td>\n",
       "      <td>1135.94</td>\n",
       "    </tr>\n",
       "    <tr>\n",
       "      <th>3</th>\n",
       "      <td>4</td>\n",
       "      <td>NaN</td>\n",
       "      <td>male</td>\n",
       "      <td>33.7</td>\n",
       "      <td>80</td>\n",
       "      <td>No</td>\n",
       "      <td>0</td>\n",
       "      <td>No</td>\n",
       "      <td>northwest</td>\n",
       "      <td>1136.40</td>\n",
       "    </tr>\n",
       "    <tr>\n",
       "      <th>4</th>\n",
       "      <td>5</td>\n",
       "      <td>NaN</td>\n",
       "      <td>male</td>\n",
       "      <td>34.1</td>\n",
       "      <td>100</td>\n",
       "      <td>No</td>\n",
       "      <td>0</td>\n",
       "      <td>No</td>\n",
       "      <td>northwest</td>\n",
       "      <td>1137.01</td>\n",
       "    </tr>\n",
       "  </tbody>\n",
       "</table>\n",
       "</div>"
      ],
      "text/plain": [
       "   Id   age gender   bmi  bloodpressure diabetic  children smoker     region  \\\n",
       "0   1  39.0   male  23.2             91      Yes         0     No  southeast   \n",
       "1   2  24.0   male  30.1             87       No         0     No  southeast   \n",
       "2   3   NaN   male  33.3             82      Yes         0     No  southeast   \n",
       "3   4   NaN   male  33.7             80       No         0     No  northwest   \n",
       "4   5   NaN   male  34.1            100       No         0     No  northwest   \n",
       "\n",
       "     claim  \n",
       "0  1121.87  \n",
       "1  1131.51  \n",
       "2  1135.94  \n",
       "3  1136.40  \n",
       "4  1137.01  "
      ]
     },
     "execution_count": 3,
     "metadata": {},
     "output_type": "execute_result"
    }
   ],
   "source": [
    "df=pd.read_csv('insurance.csv')\n",
    "df.head()"
   ]
  },
  {
   "cell_type": "code",
   "execution_count": 4,
   "id": "b3e20e61",
   "metadata": {},
   "outputs": [
    {
     "name": "stdout",
     "output_type": "stream",
     "text": [
      "<class 'pandas.core.frame.DataFrame'>\n",
      "RangeIndex: 1340 entries, 0 to 1339\n",
      "Data columns (total 10 columns):\n",
      " #   Column         Non-Null Count  Dtype  \n",
      "---  ------         --------------  -----  \n",
      " 0   Id             1340 non-null   int64  \n",
      " 1   age            1335 non-null   float64\n",
      " 2   gender         1340 non-null   object \n",
      " 3   bmi            1340 non-null   float64\n",
      " 4   bloodpressure  1340 non-null   int64  \n",
      " 5   diabetic       1340 non-null   object \n",
      " 6   children       1340 non-null   int64  \n",
      " 7   smoker         1340 non-null   object \n",
      " 8   region         1337 non-null   object \n",
      " 9   claim          1340 non-null   float64\n",
      "dtypes: float64(3), int64(3), object(4)\n",
      "memory usage: 104.8+ KB\n"
     ]
    }
   ],
   "source": [
    "df.info()"
   ]
  },
  {
   "cell_type": "code",
   "execution_count": 5,
   "id": "d1d50909",
   "metadata": {},
   "outputs": [],
   "source": [
    "pd.set_option(\"display.float_format\", '{:.2f}'.format)"
   ]
  },
  {
   "cell_type": "code",
   "execution_count": 6,
   "id": "cb2f7780",
   "metadata": {},
   "outputs": [
    {
     "data": {
      "text/plain": [
       "np.int64(0)"
      ]
     },
     "execution_count": 6,
     "metadata": {},
     "output_type": "execute_result"
    }
   ],
   "source": [
    "df.duplicated().sum()"
   ]
  },
  {
   "cell_type": "code",
   "execution_count": 7,
   "id": "7a602b50",
   "metadata": {},
   "outputs": [
    {
     "data": {
      "text/plain": [
       "Id               0\n",
       "age              5\n",
       "gender           0\n",
       "bmi              0\n",
       "bloodpressure    0\n",
       "diabetic         0\n",
       "children         0\n",
       "smoker           0\n",
       "region           3\n",
       "claim            0\n",
       "dtype: int64"
      ]
     },
     "execution_count": 7,
     "metadata": {},
     "output_type": "execute_result"
    }
   ],
   "source": [
    "df.isna().sum()"
   ]
  },
  {
   "cell_type": "code",
   "execution_count": 8,
   "id": "45f1e0e4",
   "metadata": {},
   "outputs": [
    {
     "data": {
      "text/plain": [
       "(1340, 10)"
      ]
     },
     "execution_count": 8,
     "metadata": {},
     "output_type": "execute_result"
    }
   ],
   "source": [
    "df.shape"
   ]
  },
  {
   "cell_type": "code",
   "execution_count": 9,
   "id": "d0843241",
   "metadata": {},
   "outputs": [],
   "source": [
    "df.drop_duplicates(inplace=True)"
   ]
  },
  {
   "cell_type": "code",
   "execution_count": 10,
   "id": "d1eb470d",
   "metadata": {},
   "outputs": [
    {
     "data": {
      "text/plain": [
       "(1340, 10)"
      ]
     },
     "execution_count": 10,
     "metadata": {},
     "output_type": "execute_result"
    }
   ],
   "source": [
    "df.shape"
   ]
  },
  {
   "cell_type": "code",
   "execution_count": 11,
   "id": "e674d980",
   "metadata": {},
   "outputs": [],
   "source": [
    "df.dropna(inplace=True)"
   ]
  },
  {
   "cell_type": "code",
   "execution_count": 12,
   "id": "3518555a",
   "metadata": {},
   "outputs": [
    {
     "data": {
      "text/plain": [
       "(1332, 10)"
      ]
     },
     "execution_count": 12,
     "metadata": {},
     "output_type": "execute_result"
    }
   ],
   "source": [
    "df.shape"
   ]
  },
  {
   "cell_type": "code",
   "execution_count": 13,
   "id": "a57ef76e",
   "metadata": {},
   "outputs": [
    {
     "data": {
      "text/plain": [
       "np.int64(0)"
      ]
     },
     "execution_count": 13,
     "metadata": {},
     "output_type": "execute_result"
    }
   ],
   "source": [
    "df.isna().sum().sum()"
   ]
  },
  {
   "cell_type": "code",
   "execution_count": 14,
   "id": "cc3b093c",
   "metadata": {},
   "outputs": [
    {
     "data": {
      "text/html": [
       "<div>\n",
       "<style scoped>\n",
       "    .dataframe tbody tr th:only-of-type {\n",
       "        vertical-align: middle;\n",
       "    }\n",
       "\n",
       "    .dataframe tbody tr th {\n",
       "        vertical-align: top;\n",
       "    }\n",
       "\n",
       "    .dataframe thead th {\n",
       "        text-align: right;\n",
       "    }\n",
       "</style>\n",
       "<table border=\"1\" class=\"dataframe\">\n",
       "  <thead>\n",
       "    <tr style=\"text-align: right;\">\n",
       "      <th></th>\n",
       "      <th>Id</th>\n",
       "      <th>age</th>\n",
       "      <th>bmi</th>\n",
       "      <th>bloodpressure</th>\n",
       "      <th>children</th>\n",
       "      <th>claim</th>\n",
       "    </tr>\n",
       "  </thead>\n",
       "  <tbody>\n",
       "    <tr>\n",
       "      <th>count</th>\n",
       "      <td>1332.00</td>\n",
       "      <td>1332.00</td>\n",
       "      <td>1332.00</td>\n",
       "      <td>1332.00</td>\n",
       "      <td>1332.00</td>\n",
       "      <td>1332.00</td>\n",
       "    </tr>\n",
       "    <tr>\n",
       "      <th>mean</th>\n",
       "      <td>674.47</td>\n",
       "      <td>38.09</td>\n",
       "      <td>30.66</td>\n",
       "      <td>94.19</td>\n",
       "      <td>1.10</td>\n",
       "      <td>13325.25</td>\n",
       "    </tr>\n",
       "    <tr>\n",
       "      <th>std</th>\n",
       "      <td>384.70</td>\n",
       "      <td>11.11</td>\n",
       "      <td>6.12</td>\n",
       "      <td>11.45</td>\n",
       "      <td>1.21</td>\n",
       "      <td>12109.62</td>\n",
       "    </tr>\n",
       "    <tr>\n",
       "      <th>min</th>\n",
       "      <td>1.00</td>\n",
       "      <td>18.00</td>\n",
       "      <td>16.00</td>\n",
       "      <td>80.00</td>\n",
       "      <td>0.00</td>\n",
       "      <td>1121.87</td>\n",
       "    </tr>\n",
       "    <tr>\n",
       "      <th>25%</th>\n",
       "      <td>341.75</td>\n",
       "      <td>29.00</td>\n",
       "      <td>26.20</td>\n",
       "      <td>86.00</td>\n",
       "      <td>0.00</td>\n",
       "      <td>4760.16</td>\n",
       "    </tr>\n",
       "    <tr>\n",
       "      <th>50%</th>\n",
       "      <td>674.50</td>\n",
       "      <td>38.00</td>\n",
       "      <td>30.35</td>\n",
       "      <td>92.00</td>\n",
       "      <td>1.00</td>\n",
       "      <td>9412.97</td>\n",
       "    </tr>\n",
       "    <tr>\n",
       "      <th>75%</th>\n",
       "      <td>1007.25</td>\n",
       "      <td>47.00</td>\n",
       "      <td>34.73</td>\n",
       "      <td>99.00</td>\n",
       "      <td>2.00</td>\n",
       "      <td>16781.33</td>\n",
       "    </tr>\n",
       "    <tr>\n",
       "      <th>max</th>\n",
       "      <td>1340.00</td>\n",
       "      <td>60.00</td>\n",
       "      <td>53.10</td>\n",
       "      <td>140.00</td>\n",
       "      <td>5.00</td>\n",
       "      <td>63770.43</td>\n",
       "    </tr>\n",
       "  </tbody>\n",
       "</table>\n",
       "</div>"
      ],
      "text/plain": [
       "           Id     age     bmi  bloodpressure  children    claim\n",
       "count 1332.00 1332.00 1332.00        1332.00   1332.00  1332.00\n",
       "mean   674.47   38.09   30.66          94.19      1.10 13325.25\n",
       "std    384.70   11.11    6.12          11.45      1.21 12109.62\n",
       "min      1.00   18.00   16.00          80.00      0.00  1121.87\n",
       "25%    341.75   29.00   26.20          86.00      0.00  4760.16\n",
       "50%    674.50   38.00   30.35          92.00      1.00  9412.97\n",
       "75%   1007.25   47.00   34.73          99.00      2.00 16781.33\n",
       "max   1340.00   60.00   53.10         140.00      5.00 63770.43"
      ]
     },
     "execution_count": 14,
     "metadata": {},
     "output_type": "execute_result"
    }
   ],
   "source": [
    "df.describe()"
   ]
  },
  {
   "cell_type": "code",
   "execution_count": 15,
   "id": "36570a1d",
   "metadata": {},
   "outputs": [],
   "source": [
    "from sklearn.model_selection import train_test_split\n",
    "from sklearn.preprocessing import LabelEncoder,StandardScaler\n",
    "import joblib"
   ]
  },
  {
   "cell_type": "code",
   "execution_count": 16,
   "id": "dce337ea",
   "metadata": {},
   "outputs": [
    {
     "data": {
      "text/plain": [
       "Index(['Id', 'age', 'gender', 'bmi', 'bloodpressure', 'diabetic', 'children',\n",
       "       'smoker', 'region', 'claim'],\n",
       "      dtype='object')"
      ]
     },
     "execution_count": 16,
     "metadata": {},
     "output_type": "execute_result"
    }
   ],
   "source": [
    "df.columns"
   ]
  },
  {
   "cell_type": "code",
   "execution_count": 17,
   "id": "41f5f8ea",
   "metadata": {},
   "outputs": [],
   "source": [
    "x=df.drop('claim',axis=1)\n",
    "y=df['claim']"
   ]
  },
  {
   "cell_type": "code",
   "execution_count": 18,
   "id": "8591d7d5",
   "metadata": {},
   "outputs": [
    {
     "data": {
      "text/html": [
       "<div>\n",
       "<style scoped>\n",
       "    .dataframe tbody tr th:only-of-type {\n",
       "        vertical-align: middle;\n",
       "    }\n",
       "\n",
       "    .dataframe tbody tr th {\n",
       "        vertical-align: top;\n",
       "    }\n",
       "\n",
       "    .dataframe thead th {\n",
       "        text-align: right;\n",
       "    }\n",
       "</style>\n",
       "<table border=\"1\" class=\"dataframe\">\n",
       "  <thead>\n",
       "    <tr style=\"text-align: right;\">\n",
       "      <th></th>\n",
       "      <th>Id</th>\n",
       "      <th>age</th>\n",
       "      <th>gender</th>\n",
       "      <th>bmi</th>\n",
       "      <th>bloodpressure</th>\n",
       "      <th>diabetic</th>\n",
       "      <th>children</th>\n",
       "      <th>smoker</th>\n",
       "      <th>region</th>\n",
       "    </tr>\n",
       "  </thead>\n",
       "  <tbody>\n",
       "    <tr>\n",
       "      <th>0</th>\n",
       "      <td>1</td>\n",
       "      <td>39.00</td>\n",
       "      <td>male</td>\n",
       "      <td>23.20</td>\n",
       "      <td>91</td>\n",
       "      <td>Yes</td>\n",
       "      <td>0</td>\n",
       "      <td>No</td>\n",
       "      <td>southeast</td>\n",
       "    </tr>\n",
       "    <tr>\n",
       "      <th>1</th>\n",
       "      <td>2</td>\n",
       "      <td>24.00</td>\n",
       "      <td>male</td>\n",
       "      <td>30.10</td>\n",
       "      <td>87</td>\n",
       "      <td>No</td>\n",
       "      <td>0</td>\n",
       "      <td>No</td>\n",
       "      <td>southeast</td>\n",
       "    </tr>\n",
       "    <tr>\n",
       "      <th>7</th>\n",
       "      <td>8</td>\n",
       "      <td>19.00</td>\n",
       "      <td>male</td>\n",
       "      <td>41.10</td>\n",
       "      <td>100</td>\n",
       "      <td>No</td>\n",
       "      <td>0</td>\n",
       "      <td>No</td>\n",
       "      <td>northwest</td>\n",
       "    </tr>\n",
       "    <tr>\n",
       "      <th>8</th>\n",
       "      <td>9</td>\n",
       "      <td>20.00</td>\n",
       "      <td>male</td>\n",
       "      <td>43.00</td>\n",
       "      <td>86</td>\n",
       "      <td>No</td>\n",
       "      <td>0</td>\n",
       "      <td>No</td>\n",
       "      <td>northwest</td>\n",
       "    </tr>\n",
       "    <tr>\n",
       "      <th>9</th>\n",
       "      <td>10</td>\n",
       "      <td>30.00</td>\n",
       "      <td>male</td>\n",
       "      <td>53.10</td>\n",
       "      <td>97</td>\n",
       "      <td>No</td>\n",
       "      <td>0</td>\n",
       "      <td>No</td>\n",
       "      <td>northwest</td>\n",
       "    </tr>\n",
       "    <tr>\n",
       "      <th>...</th>\n",
       "      <td>...</td>\n",
       "      <td>...</td>\n",
       "      <td>...</td>\n",
       "      <td>...</td>\n",
       "      <td>...</td>\n",
       "      <td>...</td>\n",
       "      <td>...</td>\n",
       "      <td>...</td>\n",
       "      <td>...</td>\n",
       "    </tr>\n",
       "    <tr>\n",
       "      <th>1335</th>\n",
       "      <td>1336</td>\n",
       "      <td>44.00</td>\n",
       "      <td>female</td>\n",
       "      <td>35.50</td>\n",
       "      <td>88</td>\n",
       "      <td>Yes</td>\n",
       "      <td>0</td>\n",
       "      <td>Yes</td>\n",
       "      <td>northwest</td>\n",
       "    </tr>\n",
       "    <tr>\n",
       "      <th>1336</th>\n",
       "      <td>1337</td>\n",
       "      <td>59.00</td>\n",
       "      <td>female</td>\n",
       "      <td>38.10</td>\n",
       "      <td>120</td>\n",
       "      <td>No</td>\n",
       "      <td>1</td>\n",
       "      <td>Yes</td>\n",
       "      <td>northeast</td>\n",
       "    </tr>\n",
       "    <tr>\n",
       "      <th>1337</th>\n",
       "      <td>1338</td>\n",
       "      <td>30.00</td>\n",
       "      <td>male</td>\n",
       "      <td>34.50</td>\n",
       "      <td>91</td>\n",
       "      <td>Yes</td>\n",
       "      <td>3</td>\n",
       "      <td>Yes</td>\n",
       "      <td>northwest</td>\n",
       "    </tr>\n",
       "    <tr>\n",
       "      <th>1338</th>\n",
       "      <td>1339</td>\n",
       "      <td>37.00</td>\n",
       "      <td>male</td>\n",
       "      <td>30.40</td>\n",
       "      <td>106</td>\n",
       "      <td>No</td>\n",
       "      <td>0</td>\n",
       "      <td>Yes</td>\n",
       "      <td>southeast</td>\n",
       "    </tr>\n",
       "    <tr>\n",
       "      <th>1339</th>\n",
       "      <td>1340</td>\n",
       "      <td>30.00</td>\n",
       "      <td>female</td>\n",
       "      <td>47.40</td>\n",
       "      <td>101</td>\n",
       "      <td>No</td>\n",
       "      <td>0</td>\n",
       "      <td>Yes</td>\n",
       "      <td>southeast</td>\n",
       "    </tr>\n",
       "  </tbody>\n",
       "</table>\n",
       "<p>1332 rows × 9 columns</p>\n",
       "</div>"
      ],
      "text/plain": [
       "        Id   age  gender   bmi  bloodpressure diabetic  children smoker  \\\n",
       "0        1 39.00    male 23.20             91      Yes         0     No   \n",
       "1        2 24.00    male 30.10             87       No         0     No   \n",
       "7        8 19.00    male 41.10            100       No         0     No   \n",
       "8        9 20.00    male 43.00             86       No         0     No   \n",
       "9       10 30.00    male 53.10             97       No         0     No   \n",
       "...    ...   ...     ...   ...            ...      ...       ...    ...   \n",
       "1335  1336 44.00  female 35.50             88      Yes         0    Yes   \n",
       "1336  1337 59.00  female 38.10            120       No         1    Yes   \n",
       "1337  1338 30.00    male 34.50             91      Yes         3    Yes   \n",
       "1338  1339 37.00    male 30.40            106       No         0    Yes   \n",
       "1339  1340 30.00  female 47.40            101       No         0    Yes   \n",
       "\n",
       "         region  \n",
       "0     southeast  \n",
       "1     southeast  \n",
       "7     northwest  \n",
       "8     northwest  \n",
       "9     northwest  \n",
       "...         ...  \n",
       "1335  northwest  \n",
       "1336  northeast  \n",
       "1337  northwest  \n",
       "1338  southeast  \n",
       "1339  southeast  \n",
       "\n",
       "[1332 rows x 9 columns]"
      ]
     },
     "execution_count": 18,
     "metadata": {},
     "output_type": "execute_result"
    }
   ],
   "source": [
    "x"
   ]
  },
  {
   "cell_type": "code",
   "execution_count": 19,
   "id": "53a24c91",
   "metadata": {},
   "outputs": [
    {
     "data": {
      "text/plain": [
       "0       1121.87\n",
       "1       1131.51\n",
       "7       1146.80\n",
       "8       1149.40\n",
       "9       1163.46\n",
       "         ...   \n",
       "1335   55135.40\n",
       "1336   58571.07\n",
       "1337   60021.40\n",
       "1338   62592.87\n",
       "1339   63770.43\n",
       "Name: claim, Length: 1332, dtype: float64"
      ]
     },
     "execution_count": 19,
     "metadata": {},
     "output_type": "execute_result"
    }
   ],
   "source": [
    "y"
   ]
  },
  {
   "cell_type": "code",
   "execution_count": 20,
   "id": "aa43b888",
   "metadata": {},
   "outputs": [],
   "source": [
    "cat_cols=[\"gender\",\"diabetic\",\"smoker\",\"region\"]\n",
    "label_encoders={}\n",
    "for col in cat_cols:\n",
    "    le=LabelEncoder()\n",
    "    x[col]=le.fit_transform(x[col])\n",
    "    label_encoders[col]=le\n",
    "\n",
    "    joblib.dump(le,f\"{col}_label_encoder.pkl\")\n"
   ]
  },
  {
   "cell_type": "code",
   "execution_count": 21,
   "id": "f12e976e",
   "metadata": {},
   "outputs": [
    {
     "data": {
      "text/html": [
       "<div>\n",
       "<style scoped>\n",
       "    .dataframe tbody tr th:only-of-type {\n",
       "        vertical-align: middle;\n",
       "    }\n",
       "\n",
       "    .dataframe tbody tr th {\n",
       "        vertical-align: top;\n",
       "    }\n",
       "\n",
       "    .dataframe thead th {\n",
       "        text-align: right;\n",
       "    }\n",
       "</style>\n",
       "<table border=\"1\" class=\"dataframe\">\n",
       "  <thead>\n",
       "    <tr style=\"text-align: right;\">\n",
       "      <th></th>\n",
       "      <th>Id</th>\n",
       "      <th>age</th>\n",
       "      <th>gender</th>\n",
       "      <th>bmi</th>\n",
       "      <th>bloodpressure</th>\n",
       "      <th>diabetic</th>\n",
       "      <th>children</th>\n",
       "      <th>smoker</th>\n",
       "      <th>region</th>\n",
       "    </tr>\n",
       "  </thead>\n",
       "  <tbody>\n",
       "    <tr>\n",
       "      <th>0</th>\n",
       "      <td>1</td>\n",
       "      <td>39.00</td>\n",
       "      <td>1</td>\n",
       "      <td>23.20</td>\n",
       "      <td>91</td>\n",
       "      <td>1</td>\n",
       "      <td>0</td>\n",
       "      <td>0</td>\n",
       "      <td>2</td>\n",
       "    </tr>\n",
       "    <tr>\n",
       "      <th>1</th>\n",
       "      <td>2</td>\n",
       "      <td>24.00</td>\n",
       "      <td>1</td>\n",
       "      <td>30.10</td>\n",
       "      <td>87</td>\n",
       "      <td>0</td>\n",
       "      <td>0</td>\n",
       "      <td>0</td>\n",
       "      <td>2</td>\n",
       "    </tr>\n",
       "    <tr>\n",
       "      <th>7</th>\n",
       "      <td>8</td>\n",
       "      <td>19.00</td>\n",
       "      <td>1</td>\n",
       "      <td>41.10</td>\n",
       "      <td>100</td>\n",
       "      <td>0</td>\n",
       "      <td>0</td>\n",
       "      <td>0</td>\n",
       "      <td>1</td>\n",
       "    </tr>\n",
       "    <tr>\n",
       "      <th>8</th>\n",
       "      <td>9</td>\n",
       "      <td>20.00</td>\n",
       "      <td>1</td>\n",
       "      <td>43.00</td>\n",
       "      <td>86</td>\n",
       "      <td>0</td>\n",
       "      <td>0</td>\n",
       "      <td>0</td>\n",
       "      <td>1</td>\n",
       "    </tr>\n",
       "    <tr>\n",
       "      <th>9</th>\n",
       "      <td>10</td>\n",
       "      <td>30.00</td>\n",
       "      <td>1</td>\n",
       "      <td>53.10</td>\n",
       "      <td>97</td>\n",
       "      <td>0</td>\n",
       "      <td>0</td>\n",
       "      <td>0</td>\n",
       "      <td>1</td>\n",
       "    </tr>\n",
       "    <tr>\n",
       "      <th>...</th>\n",
       "      <td>...</td>\n",
       "      <td>...</td>\n",
       "      <td>...</td>\n",
       "      <td>...</td>\n",
       "      <td>...</td>\n",
       "      <td>...</td>\n",
       "      <td>...</td>\n",
       "      <td>...</td>\n",
       "      <td>...</td>\n",
       "    </tr>\n",
       "    <tr>\n",
       "      <th>1335</th>\n",
       "      <td>1336</td>\n",
       "      <td>44.00</td>\n",
       "      <td>0</td>\n",
       "      <td>35.50</td>\n",
       "      <td>88</td>\n",
       "      <td>1</td>\n",
       "      <td>0</td>\n",
       "      <td>1</td>\n",
       "      <td>1</td>\n",
       "    </tr>\n",
       "    <tr>\n",
       "      <th>1336</th>\n",
       "      <td>1337</td>\n",
       "      <td>59.00</td>\n",
       "      <td>0</td>\n",
       "      <td>38.10</td>\n",
       "      <td>120</td>\n",
       "      <td>0</td>\n",
       "      <td>1</td>\n",
       "      <td>1</td>\n",
       "      <td>0</td>\n",
       "    </tr>\n",
       "    <tr>\n",
       "      <th>1337</th>\n",
       "      <td>1338</td>\n",
       "      <td>30.00</td>\n",
       "      <td>1</td>\n",
       "      <td>34.50</td>\n",
       "      <td>91</td>\n",
       "      <td>1</td>\n",
       "      <td>3</td>\n",
       "      <td>1</td>\n",
       "      <td>1</td>\n",
       "    </tr>\n",
       "    <tr>\n",
       "      <th>1338</th>\n",
       "      <td>1339</td>\n",
       "      <td>37.00</td>\n",
       "      <td>1</td>\n",
       "      <td>30.40</td>\n",
       "      <td>106</td>\n",
       "      <td>0</td>\n",
       "      <td>0</td>\n",
       "      <td>1</td>\n",
       "      <td>2</td>\n",
       "    </tr>\n",
       "    <tr>\n",
       "      <th>1339</th>\n",
       "      <td>1340</td>\n",
       "      <td>30.00</td>\n",
       "      <td>0</td>\n",
       "      <td>47.40</td>\n",
       "      <td>101</td>\n",
       "      <td>0</td>\n",
       "      <td>0</td>\n",
       "      <td>1</td>\n",
       "      <td>2</td>\n",
       "    </tr>\n",
       "  </tbody>\n",
       "</table>\n",
       "<p>1332 rows × 9 columns</p>\n",
       "</div>"
      ],
      "text/plain": [
       "        Id   age  gender   bmi  bloodpressure  diabetic  children  smoker  \\\n",
       "0        1 39.00       1 23.20             91         1         0       0   \n",
       "1        2 24.00       1 30.10             87         0         0       0   \n",
       "7        8 19.00       1 41.10            100         0         0       0   \n",
       "8        9 20.00       1 43.00             86         0         0       0   \n",
       "9       10 30.00       1 53.10             97         0         0       0   \n",
       "...    ...   ...     ...   ...            ...       ...       ...     ...   \n",
       "1335  1336 44.00       0 35.50             88         1         0       1   \n",
       "1336  1337 59.00       0 38.10            120         0         1       1   \n",
       "1337  1338 30.00       1 34.50             91         1         3       1   \n",
       "1338  1339 37.00       1 30.40            106         0         0       1   \n",
       "1339  1340 30.00       0 47.40            101         0         0       1   \n",
       "\n",
       "      region  \n",
       "0          2  \n",
       "1          2  \n",
       "7          1  \n",
       "8          1  \n",
       "9          1  \n",
       "...      ...  \n",
       "1335       1  \n",
       "1336       0  \n",
       "1337       1  \n",
       "1338       2  \n",
       "1339       2  \n",
       "\n",
       "[1332 rows x 9 columns]"
      ]
     },
     "execution_count": 21,
     "metadata": {},
     "output_type": "execute_result"
    }
   ],
   "source": [
    "x"
   ]
  },
  {
   "cell_type": "code",
   "execution_count": 22,
   "id": "eaa5bf72",
   "metadata": {},
   "outputs": [
    {
     "data": {
      "text/plain": [
       "{'gender': LabelEncoder(),\n",
       " 'diabetic': LabelEncoder(),\n",
       " 'smoker': LabelEncoder(),\n",
       " 'region': LabelEncoder()}"
      ]
     },
     "execution_count": 22,
     "metadata": {},
     "output_type": "execute_result"
    }
   ],
   "source": [
    "label_encoders"
   ]
  },
  {
   "cell_type": "code",
   "execution_count": 23,
   "id": "28221504",
   "metadata": {},
   "outputs": [],
   "source": [
    "x_train,x_test,y_train,y_test=train_test_split(x,y,test_size=0.2)"
   ]
  },
  {
   "cell_type": "code",
   "execution_count": 24,
   "id": "4cb847ca",
   "metadata": {},
   "outputs": [],
   "source": [
    "num_cols=[\"age\",\"bmi\",\"bloodpressure\",\"children\"]\n",
    "scaler=StandardScaler()"
   ]
  },
  {
   "cell_type": "code",
   "execution_count": 25,
   "id": "703d3142",
   "metadata": {},
   "outputs": [
    {
     "data": {
      "text/plain": [
       "['scaler.pkl']"
      ]
     },
     "execution_count": 25,
     "metadata": {},
     "output_type": "execute_result"
    }
   ],
   "source": [
    "x_train[num_cols]=scaler.fit_transform(x_train[num_cols])\n",
    "x_test[num_cols]=scaler.transform(x_test[num_cols])\n",
    "\n",
    "joblib.dump(scaler,\"scaler.pkl\")"
   ]
  },
  {
   "cell_type": "code",
   "execution_count": 26,
   "id": "8b0b8ecb",
   "metadata": {},
   "outputs": [
    {
     "name": "stdout",
     "output_type": "stream",
     "text": [
      "(1065, 9) (1065,)\n"
     ]
    }
   ],
   "source": [
    "print(x_train.shape,y_train.shape)"
   ]
  },
  {
   "cell_type": "code",
   "execution_count": 27,
   "id": "c5a9362e",
   "metadata": {},
   "outputs": [
    {
     "name": "stdout",
     "output_type": "stream",
     "text": [
      "(267, 9) (267,)\n"
     ]
    }
   ],
   "source": [
    "print(x_test.shape,y_test.shape)"
   ]
  },
  {
   "cell_type": "code",
   "execution_count": 28,
   "id": "2682c77e",
   "metadata": {},
   "outputs": [],
   "source": [
    "import numpy as np\n",
    "from sklearn.linear_model import LogisticRegression\n",
    "from sklearn.preprocessing import PolynomialFeatures\n",
    "from sklearn.ensemble import RandomForestRegressor\n",
    "from sklearn.svm import SVR\n",
    "from sklearn.linear_model import LinearRegression\n",
    "from sklearn.model_selection import GridSearchCV,cross_val_score\n",
    "from sklearn.metrics import mean_absolute_error,mean_squared_error,r2_score\n",
    "from xgboost import XGBRegressor\n"
   ]
  },
  {
   "cell_type": "code",
   "execution_count": 29,
   "id": "8cccdfda",
   "metadata": {},
   "outputs": [],
   "source": [
    "def evaluate_model(model,x_test,y_test,y_train,x_train):\n",
    "    y_pred=model.predict(x_test)\n",
    "    r2=r2_score(y_test,y_pred)\n",
    "    mae=mean_absolute_error(y_test,y_pred)\n",
    "    rmse=np.sqrt(mean_squared_error(y_test,y_pred))\n",
    "    return{\"R2_Score\":r2,\"MAE\":mae,\"RMSE\":rmse}"
   ]
  },
  {
   "cell_type": "code",
   "execution_count": 30,
   "id": "a763642b",
   "metadata": {},
   "outputs": [
    {
     "name": "stdout",
     "output_type": "stream",
     "text": [
      "Linear Regression model trained\n",
      "Polynomial Regression model (degree=3) trained\n",
      "Random Forest Regression model trained {'max_depth': None, 'min_samples_leaf': 1, 'min_samples_split': 2, 'n_estimators': 100}\n",
      "Random Forest Regression model trained {'max_depth': None, 'min_samples_leaf': 1, 'min_samples_split': 2, 'n_estimators': 100}\n",
      "Support Vector Regression model trained {'C': 10, 'degree': 2, 'epsilon': 0.1, 'kernel': 'linear'}\n",
      "Support Vector Regression model trained {'C': 10, 'degree': 2, 'epsilon': 0.1, 'kernel': 'linear'}\n",
      "XGBoost Regression model trained {'colsample_bytree': 1, 'learning_rate': 0.1, 'max_depth': 5, 'n_estimators': 100, 'subsample': 0.8}\n",
      "XGBoost Regression model trained {'colsample_bytree': 1, 'learning_rate': 0.1, 'max_depth': 5, 'n_estimators': 100, 'subsample': 0.8}\n"
     ]
    }
   ],
   "source": [
    "lr=LinearRegression()\n",
    "lr.fit(x_train,y_train)\n",
    "results=evaluate_model(lr,x_test,y_test,y_train,x_train)\n",
    "print(\"Linear Regression model trained\")\n",
    "\n",
    "best_poly_model=None\n",
    "best_poly_score=-np.inf\n",
    "\n",
    "for degree in [2,3]:\n",
    "    poly = PolynomialFeatures(degree=degree)\n",
    "    x_train_poly = poly.fit_transform(x_train)\n",
    "    x_test_poly = poly.transform(x_test)\n",
    "\n",
    "    poly_lr=LinearRegression()\n",
    "    poly_lr.fit(x_train_poly,y_train)\n",
    "\n",
    "    score=poly_lr.score(x_test_poly,y_test)\n",
    "\n",
    "    if score>best_poly_score:\n",
    "        best_poly_score=score\n",
    "        best_poly_model=(degree,poly,poly_lr)\n",
    "\n",
    "degree,poly,poly_lr=best_poly_model\n",
    "results[f\"Polynomial Regression (degree={degree})\"]=evaluate_model(poly_lr,x_test_poly,y_test,y_train,x_train_poly)\n",
    "print(f\"Polynomial Regression model (degree={degree}) trained\")\n",
    "\n",
    "rf_params={\n",
    "    'n_estimators':[100,200],\n",
    "    'max_depth':[None,10,20],\n",
    "    'min_samples_split':[2,5],\n",
    "    'min_samples_leaf':[1,2]\n",
    "}\n",
    "\n",
    "rf_grid=GridSearchCV(estimator=RandomForestRegressor(),param_grid=rf_params,cv=5,n_jobs=-1,scoring='r2')\n",
    "rf_grid.fit(x_train,y_train)\n",
    "best_rf_model=rf_grid.best_estimator_\n",
    "\n",
    "results[\"Random Forest Regression\"]=evaluate_model(best_rf_model,x_test,y_test,y_train,x_train)\n",
    "print(\"Random Forest Regression model trained\",rf_grid.best_params_)\n",
    "\n",
    "svr=SVR()\n",
    "\n",
    "svr_params={\n",
    "    'kernel':['linear','rbf'],\n",
    "    'C':[0.1,1,10],\n",
    "    'epsilon':[0.1,0.2,0.5],\n",
    "    'degree':[2,3]\n",
    "}\n",
    "\n",
    "svr_grid=GridSearchCV(estimator=SVR(),param_grid=svr_params,cv=5,n_jobs=-1,scoring='r2')\n",
    "svr_grid.fit(x_train,y_train)\n",
    "\n",
    "best_svr_model=svr_grid.best_estimator_\n",
    "\n",
    "results[\"Support Vector Regression\"]=evaluate_model(best_svr_model,x_test,y_test,y_train,x_train)\n",
    "print(\"Support Vector Regression model trained\",svr_grid.best_params_)\n",
    "\n",
    "xgb=XGBRegressor()\n",
    "xgb_params={\n",
    "    'n_estimators':[100,200],\n",
    "    'learning_rate':[0.01,0.1,0.2],\n",
    "    'max_depth':[3,5,7],\n",
    "    'subsample':[0.8,1],\n",
    "    'colsample_bytree':[0.8,1]\n",
    "}\n",
    "xgb_grid=GridSearchCV(estimator=XGBRegressor(),param_grid=xgb_params,cv=5,n_jobs=-1,scoring='r2')\n",
    "xgb_grid.fit(x_train,y_train)\n",
    "best_xgb_model=xgb_grid.best_estimator_\n",
    "results[\"XGBoost Regression\"]=evaluate_model(best_xgb_model,x_test,y_test,y_train,x_train)\n",
    "print(\"XGBoost Regression model trained\",xgb_grid.best_params_)\n"
   ]
  },
  {
   "cell_type": "code",
   "execution_count": 31,
   "id": "d143aa14",
   "metadata": {},
   "outputs": [
    {
     "data": {
      "text/plain": [
       "{'R2_Score': 0.8842435524861002,\n",
       " 'MAE': 3073.0145974179404,\n",
       " 'RMSE': np.float64(4154.007738455771),\n",
       " 'Polynomial Regression (degree=3)': {'R2_Score': 0.9905931416848193,\n",
       "  'MAE': 800.4423034600189,\n",
       "  'RMSE': np.float64(1184.1780523701757)},\n",
       " 'Random Forest Regression': {'R2_Score': 0.9999489280412645,\n",
       "  'MAE': 39.951439700373534,\n",
       "  'RMSE': np.float64(87.25412413839203)},\n",
       " 'Support Vector Regression': {'R2_Score': 0.6927909367468232,\n",
       "  'MAE': 3431.2715418143525,\n",
       "  'RMSE': np.float64(6767.242169298041)},\n",
       " 'XGBoost Regression': {'R2_Score': 0.9998430352915958,\n",
       "  'MAE': 82.65657910522003,\n",
       "  'RMSE': np.float64(152.9662834529774)}}"
      ]
     },
     "execution_count": 31,
     "metadata": {},
     "output_type": "execute_result"
    }
   ],
   "source": [
    "results"
   ]
  },
  {
   "cell_type": "code",
   "execution_count": 33,
   "id": "809bcae3",
   "metadata": {},
   "outputs": [
    {
     "data": {
      "text/html": [
       "<div>\n",
       "<style scoped>\n",
       "    .dataframe tbody tr th:only-of-type {\n",
       "        vertical-align: middle;\n",
       "    }\n",
       "\n",
       "    .dataframe tbody tr th {\n",
       "        vertical-align: top;\n",
       "    }\n",
       "\n",
       "    .dataframe thead th {\n",
       "        text-align: right;\n",
       "    }\n",
       "</style>\n",
       "<table border=\"1\" class=\"dataframe\">\n",
       "  <thead>\n",
       "    <tr style=\"text-align: right;\">\n",
       "      <th></th>\n",
       "      <th>R2_Score</th>\n",
       "      <th>MAE</th>\n",
       "      <th>RMSE</th>\n",
       "    </tr>\n",
       "  </thead>\n",
       "  <tbody>\n",
       "    <tr>\n",
       "      <th>RMSE</th>\n",
       "      <td>4154.01</td>\n",
       "      <td>4154.01</td>\n",
       "      <td>4154.01</td>\n",
       "    </tr>\n",
       "    <tr>\n",
       "      <th>MAE</th>\n",
       "      <td>3073.01</td>\n",
       "      <td>3073.01</td>\n",
       "      <td>3073.01</td>\n",
       "    </tr>\n",
       "    <tr>\n",
       "      <th>Random Forest Regression</th>\n",
       "      <td>1.00</td>\n",
       "      <td>39.95</td>\n",
       "      <td>87.25</td>\n",
       "    </tr>\n",
       "    <tr>\n",
       "      <th>XGBoost Regression</th>\n",
       "      <td>1.00</td>\n",
       "      <td>82.66</td>\n",
       "      <td>152.97</td>\n",
       "    </tr>\n",
       "    <tr>\n",
       "      <th>Polynomial Regression (degree=3)</th>\n",
       "      <td>0.99</td>\n",
       "      <td>800.44</td>\n",
       "      <td>1184.18</td>\n",
       "    </tr>\n",
       "    <tr>\n",
       "      <th>R2_Score</th>\n",
       "      <td>0.88</td>\n",
       "      <td>0.88</td>\n",
       "      <td>0.88</td>\n",
       "    </tr>\n",
       "    <tr>\n",
       "      <th>Support Vector Regression</th>\n",
       "      <td>0.69</td>\n",
       "      <td>3431.27</td>\n",
       "      <td>6767.24</td>\n",
       "    </tr>\n",
       "  </tbody>\n",
       "</table>\n",
       "</div>"
      ],
      "text/plain": [
       "                                  R2_Score     MAE    RMSE\n",
       "RMSE                               4154.01 4154.01 4154.01\n",
       "MAE                                3073.01 3073.01 3073.01\n",
       "Random Forest Regression              1.00   39.95   87.25\n",
       "XGBoost Regression                    1.00   82.66  152.97\n",
       "Polynomial Regression (degree=3)      0.99  800.44 1184.18\n",
       "R2_Score                              0.88    0.88    0.88\n",
       "Support Vector Regression             0.69 3431.27 6767.24"
      ]
     },
     "execution_count": 33,
     "metadata": {},
     "output_type": "execute_result"
    }
   ],
   "source": [
    "results_df=pd.DataFrame(results).T.sort_values(by=\"R2_Score\",ascending=False)\n",
    "results_df"
   ]
  },
  {
   "cell_type": "code",
   "execution_count": 35,
   "id": "461600df",
   "metadata": {},
   "outputs": [],
   "source": [
    "models={\n",
    "    \"Linear Regression\":lr,\n",
    "    \"Polynomial Regression\":poly_lr,\n",
    "    \"Random Forest\":best_rf_model,\n",
    "    \"SVR\":best_svr_model,\n",
    "    \"XGBoost\":best_xgb_model\n",
    "}"
   ]
  },
  {
   "cell_type": "code",
   "execution_count": 39,
   "id": "8e521df1",
   "metadata": {},
   "outputs": [
    {
     "name": "stdout",
     "output_type": "stream",
     "text": [
      "Top result row: RMSE\n"
     ]
    },
    {
     "data": {
      "text/plain": [
       "R2_Score   4154.01\n",
       "MAE        4154.01\n",
       "RMSE       4154.01\n",
       "Name: RMSE, dtype: float64"
      ]
     },
     "execution_count": 39,
     "metadata": {},
     "output_type": "execute_result"
    }
   ],
   "source": [
    "# select the row with the highest R2 score from results_df\n",
    "top_idx = results_df['R2_Score'].idxmax()\n",
    "top_row = results_df.loc[top_idx]\n",
    "\n",
    "# map results_df row names to keys used in the `models` dict (if needed)\n",
    "name_map = {\n",
    "\t'Random Forest Regression': 'Random Forest',\n",
    "\t'XGBoost Regression': 'XGBoost',\n",
    "\t'Polynomial Regression (degree=3)': 'Polynomial Regression',\n",
    "\t'Support Vector Regression': 'SVR',\n",
    "\t'Linear Regression': 'Linear Regression'\n",
    "}\n",
    "mapped_name = name_map.get(top_idx, top_idx)\n",
    "top_model = models.get(mapped_name)  # may be None if no matching key\n",
    "\n",
    "print(\"Top result row:\", top_idx)\n",
    "top_row"
   ]
  },
  {
   "cell_type": "code",
   "execution_count": 41,
   "id": "a1b3208a",
   "metadata": {},
   "outputs": [
    {
     "data": {
      "text/plain": [
       "'RMSE'"
      ]
     },
     "execution_count": 41,
     "metadata": {},
     "output_type": "execute_result"
    }
   ],
   "source": [
    "top_idx"
   ]
  },
  {
   "cell_type": "code",
   "execution_count": 42,
   "id": "9be8d14b",
   "metadata": {},
   "outputs": [
    {
     "name": "stdout",
     "output_type": "stream",
     "text": [
      "best model selected:{top_idx}\n"
     ]
    }
   ],
   "source": [
    "joblib.dump(top_idx,\"best_model.pkl\")\n",
    "print(\"best model selected:{top_idx}\")"
   ]
  },
  {
   "cell_type": "code",
   "execution_count": null,
   "id": "7eacd34a",
   "metadata": {},
   "outputs": [],
   "source": []
  }
 ],
 "metadata": {
  "kernelspec": {
   "display_name": "Python 3",
   "language": "python",
   "name": "python3"
  },
  "language_info": {
   "codemirror_mode": {
    "name": "ipython",
    "version": 3
   },
   "file_extension": ".py",
   "mimetype": "text/x-python",
   "name": "python",
   "nbconvert_exporter": "python",
   "pygments_lexer": "ipython3",
   "version": "3.10.15"
  }
 },
 "nbformat": 4,
 "nbformat_minor": 5
}
